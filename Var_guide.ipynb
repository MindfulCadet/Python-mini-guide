{
  "nbformat": 4,
  "nbformat_minor": 0,
  "metadata": {
    "colab": {
      "provenance": [],
      "authorship_tag": "ABX9TyOkSPQTqVZUtqfI6yVuIvAW",
      "include_colab_link": true
    },
    "kernelspec": {
      "name": "python3",
      "display_name": "Python 3"
    },
    "language_info": {
      "name": "python"
    }
  },
  "cells": [
    {
      "cell_type": "markdown",
      "metadata": {
        "id": "view-in-github",
        "colab_type": "text"
      },
      "source": [
        "<a href=\"https://colab.research.google.com/github/MindfulCadet/Python-mini-guide/blob/main/Var_guide.ipynb\" target=\"_parent\"><img src=\"https://colab.research.google.com/assets/colab-badge.svg\" alt=\"Open In Colab\"/></a>"
      ]
    },
    {
      "cell_type": "code",
      "source": [
        "# Variable que contiene un entero\n",
        "edad = 45\n",
        "\n",
        "# Flotante\n",
        "salario = 1456.8\n",
        "\n",
        "# String\n",
        "nombre = \"John\"\n",
        "\n",
        "print(edad)\n",
        "print(salario)\n",
        "print(nombre)\n",
        "\n",
        "# Si se redeclara una variable, se cambia por completo el valor que contenia\n",
        "edad = 18\n",
        "\n",
        "print(\"Despues de redeclarar:\",edad)"
      ],
      "metadata": {
        "colab": {
          "base_uri": "https://localhost:8080/"
        },
        "id": "ZpUOriIgWnKo",
        "outputId": "59349428-3f97-48b3-a5a5-3396ffe63b8b"
      },
      "execution_count": 1,
      "outputs": [
        {
          "output_type": "stream",
          "name": "stdout",
          "text": [
            "45\n",
            "1456.8\n",
            "John\n",
            "Despues de redeclarar: 18\n"
          ]
        }
      ]
    }
  ]
}