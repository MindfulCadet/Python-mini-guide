{
 "cells": [
  {
   "cell_type": "markdown",
   "metadata": {},
   "source": [
    "# __Conocimientos básicos (Python)__"
   ]
  },
  {
   "cell_type": "markdown",
   "metadata": {},
   "source": [
    "## 1. __Variable:__"
   ]
  },
  {
   "cell_type": "markdown",
   "metadata": {},
   "source": [
    " Es el nombre que se le da a un contenedor (espacio de memoria) el cual almacena un valor. Generalmente, se tiene que declarar el tipo de dato que va a contener la variable, pero en el caso de Python esto no es así, ya que es un lenguaje de “tipado dinámico” (es decir, puede cambiar el tipo de dato de la variable durante el tiempo de ejecución, contrario a tener uno fijo desde el momento en que se declara)."
   ]
  },
  {
   "cell_type": "markdown",
   "metadata": {},
   "source": [
    "### 1.1 - Declaración de la variable: "
   ]
  },
  {
   "cell_type": "markdown",
   "metadata": {},
   "source": [
    "Se le coloca un nombre y el valor el cual va a almacenar (ya sea un entero, flotante, booleano, etc): "
   ]
  },
  {
   "cell_type": "code",
   "execution_count": null,
   "metadata": {},
   "outputs": [],
   "source": [
    "# Variable que contiene un entero\n",
    "edad = 45\n",
    "\n",
    "# Flotante\n",
    "salario = 1456.8\n",
    "\n",
    "# String\n",
    "nombre = \"John\"\n",
    "\n",
    "print(edad)\n",
    "print(salario)\n",
    "print(nombre)\n",
    "\n",
    "# Si se redeclara una variable, se cambia por completo el valor que contenia\n",
    "edad = 18\n",
    "\n",
    "print(\"Despues de redeclarar:\",edad)"
   ]
  },
  {
   "cell_type": "markdown",
   "metadata": {},
   "source": [
    "## 1.2 - Recomendaciones al declarar variables:"
   ]
  },
  {
   "cell_type": "markdown",
   "metadata": {},
   "source": [
    "I - Al nombrar las variables, seguir cualquiera de los tipos de escritura preestablecidos (camelCase, snake_case, PascalCase).\n"
   ]
  },
  {
   "cell_type": "markdown",
   "metadata": {},
   "source": [
    "II - Colocarles un nombre autoexplicativo."
   ]
  },
  {
   "cell_type": "code",
   "execution_count": null,
   "metadata": {},
   "outputs": [],
   "source": [
    "#camelCase\n",
    "nombreDeEmpleado = \"Juan\"\n",
    "\n",
    "#snake_case\n",
    "\n",
    "sueldo_de_empleado = 1000\n",
    "\n",
    "#PascalCase\n",
    "\n",
    "HorasDeTrabajoDiarias = 8\n",
    "\n",
    "print(nombreDeEmpleado, \"tiene un sueldo de\", sueldo_de_empleado, \"dolares y trabaja\", HorasDeTrabajoDiarias, \" horas diarias.\")"
   ]
  },
  {
   "cell_type": "markdown",
   "metadata": {},
   "source": [
    "## 2. __Sentencias condicionales:__"
   ]
  },
  {
   "cell_type": "markdown",
   "metadata": {},
   "source": [
    "Son sentencias que permiten llevar a cabo la ejecución de uno o varios bloques de código, solo si se cumple con las condiciones dadas. \n",
    "\n",
    "Existen tres sentencias de este tipo:"
   ]
  },
  {
   "cell_type": "markdown",
   "metadata": {},
   "source": [
    "### 2.1- if:"
   ]
  },
  {
   "cell_type": "markdown",
   "metadata": {},
   "source": [
    "Permite que se ejecute un bloque de codigo solo si se cumple con la condición dada. \n",
    "\n",
    "Esta sentencia trabaja con los operadores booleanos (True y False), por lo que el bloque se ejecutará si la condición del \"if\" retorna un \"True\". Su sintaxis es:"
   ]
  },
  {
   "cell_type": "code",
   "execution_count": 36,
   "metadata": {},
   "outputs": [],
   "source": [
    "#if condicion:\n",
    "    #bloque de codigo a ejecutar"
   ]
  },
  {
   "cell_type": "markdown",
   "metadata": {},
   "source": [
    "Se puede apreciar mejor con un ejemplo:"
   ]
  },
  {
   "cell_type": "code",
   "execution_count": null,
   "metadata": {},
   "outputs": [],
   "source": [
    "juan_presente = True\n",
    "hora_de_llegada = 9\n",
    "\n",
    "#Se ejecuta este bloque, ya que cumple con la condicion\n",
    "if juan_presente == True:\n",
    "    print(\"Juan esta presente\")\n",
    "\n",
    "#No se ejecuta el bloque, ya que no se cumple la condicion\n",
    "if hora_de_llegada < 9:\n",
    "    print(\"Juan llego temprano\")\n",
    "\n",
    "#Nota: no es necesario especificar que la condicion debe ser igual a \"True\", eso ya lo hace por\n",
    "#defecto el \"if\", y por extension, el \"elif\""
   ]
  },
  {
   "cell_type": "markdown",
   "metadata": {},
   "source": []
  },
  {
   "cell_type": "markdown",
   "metadata": {},
   "source": [
    "### 2.2 - elif:"
   ]
  },
  {
   "cell_type": "markdown",
   "metadata": {},
   "source": [
    "Ejecuta un bloque de código solo si se cumple con las condiciones del mismo y no las del \"if\". \n",
    "\n",
    "Esta sentencia requiere de un \"if\" que lo preceda, y trabaja de forma similar al mismo, utilizando los operadores booleanos. Su sintaxis es:"
   ]
  },
  {
   "cell_type": "code",
   "execution_count": 38,
   "metadata": {},
   "outputs": [],
   "source": [
    "# elif condicion:\n",
    "    #Bloque de codigo"
   ]
  },
  {
   "cell_type": "markdown",
   "metadata": {},
   "source": [
    "Para mostrarlo mejor, se extendera el ejemplo anterior:"
   ]
  },
  {
   "cell_type": "code",
   "execution_count": null,
   "metadata": {},
   "outputs": [],
   "source": [
    "juan_presente = True\n",
    "hora_de_llegada = 9\n",
    "\n",
    "if juan_presente:\n",
    "    print(\"Juan esta presente\")\n",
    "\n",
    "if hora_de_llegada < 9:\n",
    "    print(\"Juan llego temprano\")\n",
    "\n",
    "elif hora_de_llegada >= 9:\n",
    "    print(\"Juan llego tarde\")"
   ]
  },
  {
   "cell_type": "markdown",
   "metadata": {},
   "source": [
    "### 2.3 - else:"
   ]
  },
  {
   "cell_type": "markdown",
   "metadata": {},
   "source": [
    "Ejecuta un bloque de codigo solo si no se cumplen las condiciones del \"if\" y los \"elif\". Su sintaxis es:"
   ]
  },
  {
   "cell_type": "code",
   "execution_count": 40,
   "metadata": {},
   "outputs": [],
   "source": [
    "#else:\n",
    "    #Bloque de codigo"
   ]
  },
  {
   "cell_type": "markdown",
   "metadata": {},
   "source": [
    "Ahora, se modificará un poco el ejemplo original, con tal de mostrar la utilidad del \"else\":"
   ]
  },
  {
   "cell_type": "code",
   "execution_count": null,
   "metadata": {},
   "outputs": [],
   "source": [
    "juan_presente = True\n",
    "hora_de_llegada = 9\n",
    "\n",
    "if juan_presente:\n",
    "    print(\"Juan esta presente\")\n",
    "\n",
    "if hora_de_llegada < 9:\n",
    "    print(\"Juan llego temprano\")\n",
    "\n",
    "elif hora_de_llegada > 9:\n",
    "    print(\"Juan llego tarde\")\n",
    "\n",
    "else:\n",
    "    print(\"Juan llego justo a tiempo\")\n"
   ]
  },
  {
   "cell_type": "markdown",
   "metadata": {},
   "source": [
    "## 3. __Arreglos:__"
   ]
  },
  {
   "cell_type": "markdown",
   "metadata": {},
   "source": [
    "Son contenedores para una serie de elementos ordenados. \n",
    "\n",
    "En Python, no tiene exactamente \"arreglos\" por nombre; sin embargo, si contiene estructuras de datos que, funcionalmente, son iguales a estos. Estas son:"
   ]
  },
  {
   "cell_type": "markdown",
   "metadata": {},
   "source": [
    "### 3.1 - Lista:"
   ]
  },
  {
   "cell_type": "markdown",
   "metadata": {},
   "source": [
    "Es una estructura de dato dinámica, es decir, se puede modificar una vez declarada (ya sea añadiendo/eliminando elementos o modificando los mismos). \n",
    "\n",
    "Se puede agregar más de un tipo de dato a una misma lista, caso contrario a los arreglos en otros lenguajes de programación. \n",
    "\n",
    "Su sintaxis es:"
   ]
  },
  {
   "cell_type": "code",
   "execution_count": 42,
   "metadata": {},
   "outputs": [],
   "source": [
    "# lista = [elemento1, elemento2, elemento3, ...]\n",
    "\n",
    "            # o\n",
    "\n",
    "# lista = list(elemento1, elemento2, elemento3, ...)"
   ]
  },
  {
   "cell_type": "markdown",
   "metadata": {},
   "source": [
    "Es importante destacar que las listas requieren exclusivamente de corchetes para ser declaradas, a menos que se haga de la segunda forma mostrada.\n",
    "\n",
    "Tambien se pueden declarar listas sin ningún elemento, donde solo se colocan los corchetes.\n",
    "\n",
    "Ejemplo de lista:"
   ]
  },
  {
   "cell_type": "code",
   "execution_count": null,
   "metadata": {},
   "outputs": [],
   "source": [
    "frutas = ['Pera', 7, 'Piña']\n",
    "\n",
    "# El numero en corchetes al lado de la lista \"frutas\" es el indice del elemento que se quiere \n",
    "# obtener. \n",
    "print(frutas[0])\n",
    "print(frutas[2])"
   ]
  },
  {
   "cell_type": "markdown",
   "metadata": {},
   "source": [
    "Las posiciones de la lista comienzan desde el 0, por lo que una lista de 3 elementos (como en el caso del ejemplo) comienza en el 0 y va hasta el 2. Tambien se puede usar índices negativos, comenzando más bien por el último elemento y yendo así hasta el primero:"
   ]
  },
  {
   "cell_type": "code",
   "execution_count": null,
   "metadata": {},
   "outputs": [],
   "source": [
    "numeros = [1, 8, 'cuatro', 'cero', (6, 'siete')]\n",
    "\n",
    "# Se busca mostrar el 8 de la lista\n",
    "print(numeros[-4])"
   ]
  },
  {
   "cell_type": "markdown",
   "metadata": {},
   "source": [
    "Además, es posible poner multiples elementos en una misma posición dentro de la estructura, teniendo que colocar dos indices en este caso: el primero para buscar la posición en la lista principal y el segundo para especificar el elemento en la lista secundaria (si no se especifica en la sublista, la muestra tal cual está escrita):"
   ]
  },
  {
   "cell_type": "code",
   "execution_count": null,
   "metadata": {},
   "outputs": [],
   "source": [
    "grupos = [(1,2), ('vaca', True), False]\n",
    "\n",
    "# Muestra el segundo elemento de la sublista, ubicada en la posicion \"1\"\n",
    "print(grupos[1][1])\n",
    "\n",
    "# Muestra la sublista tal cual como se esta\n",
    "print(grupos[1])"
   ]
  },
  {
   "cell_type": "markdown",
   "metadata": {},
   "source": [
    "Existen varias funciones útiles a la hora de trabajar con listas. Estas son:"
   ]
  },
  {
   "cell_type": "markdown",
   "metadata": {},
   "source": [
    " - __len(objeto)__: Devuelve el tamaño de la lista:"
   ]
  },
  {
   "cell_type": "code",
   "execution_count": null,
   "metadata": {},
   "outputs": [],
   "source": [
    "lista = ['elemento', 14.2, False]\n",
    "\n",
    "print(len(lista))"
   ]
  },
  {
   "cell_type": "markdown",
   "metadata": {},
   "source": [
    " - __append(x)__: Agrega un elemento al final de la lista:"
   ]
  },
  {
   "cell_type": "code",
   "execution_count": null,
   "metadata": {},
   "outputs": [],
   "source": [
    "lista = ['elemento', 14.2, False]\n",
    "\n",
    "# Agrega una sublista a la lista principal\n",
    "lista.append((2,3,6))\n",
    "\n",
    "print(len(lista))\n",
    "print(lista[3])"
   ]
  },
  {
   "cell_type": "markdown",
   "metadata": {},
   "source": [
    " - __remove(x)__: Elimina el primer elemento de la lista que coincida con \"x\":"
   ]
  },
  {
   "cell_type": "code",
   "execution_count": null,
   "metadata": {},
   "outputs": [],
   "source": [
    "lista = ['elemento', 14.2, False]\n",
    "\n",
    "lista.remove(14.2)\n",
    "\n",
    "print(len(lista))\n",
    "print(lista[1])"
   ]
  },
  {
   "cell_type": "markdown",
   "metadata": {},
   "source": [
    " - __insert(i,x)__: Inserta un elemento \"x\" en la posición \"i\" especificada:\n",
    " "
   ]
  },
  {
   "cell_type": "code",
   "execution_count": null,
   "metadata": {},
   "outputs": [],
   "source": [
    "lista = ['elemento', 14.2, False]\n",
    "\n",
    "print(lista[0])\n",
    "\n",
    "lista.insert(0, \"nuevo elemento\")\n",
    "\n",
    "print(lista[0])\n",
    "\n",
    "print(len(lista))"
   ]
  },
  {
   "cell_type": "markdown",
   "metadata": {},
   "source": [
    "- __pop(i)__: Elimina un elemento en la posición \"i\" de la lista y lo retorna:"
   ]
  },
  {
   "cell_type": "code",
   "execution_count": null,
   "metadata": {},
   "outputs": [],
   "source": [
    "lista = ['elemento', 14.2, False]\n",
    "\n",
    "elemento_sacado = lista.pop(2)\n",
    "\n",
    "print(len(lista), elemento_sacado)"
   ]
  },
  {
   "cell_type": "markdown",
   "metadata": {},
   "source": [
    " - __sort()__: Ordena los elementos de una lista, de menor a mayor"
   ]
  },
  {
   "cell_type": "code",
   "execution_count": null,
   "metadata": {},
   "outputs": [],
   "source": [
    "nueva_lista = [18, 2, 1, 10]\n",
    "\n",
    "nueva_lista.sort()\n",
    "\n",
    "# Esta keyword se vera en detalle mas adelante\n",
    "for lx in nueva_lista:\n",
    "    print(lx)\n"
   ]
  },
  {
   "cell_type": "markdown",
   "metadata": {},
   "source": [
    "### 3.2 - Tupla:"
   ]
  },
  {
   "cell_type": "markdown",
   "metadata": {},
   "source": [
    "Es una estructura de datos estática, es decir, no se puede modificar una vez declarada (por ende, no existe ninguna de las funciones usadas normalmente en las listas para este tipo de dato, con la excepción de \"len()\"). Es casi igual a las listas, quitando lo anteriormente dicho y dos características adicionales que se mencionaran. \n",
    "\n",
    "Su sintaxis es:"
   ]
  },
  {
   "cell_type": "code",
   "execution_count": 46,
   "metadata": {},
   "outputs": [],
   "source": [
    "# tupla = (elemento1, elemento2, elemento3, ...)"
   ]
  },
  {
   "cell_type": "markdown",
   "metadata": {},
   "source": [
    "Como se puede observar, contrario a la lista, solo tiene una forma de ser declarada (no cuenta con una función que lo haga), y se debe hacer exclusivamente con paréntesis.\n",
    "\n",
    "Para observar el comportamiento estático de la tupla, se mostrará un ejemplos donde se intenta cambiar:"
   ]
  },
  {
   "cell_type": "code",
   "execution_count": null,
   "metadata": {},
   "outputs": [],
   "source": [
    "nombres = ('Juan', 'Jesus', 'Placido')\n",
    "\n",
    "# Intentando cambiar un elemento\n",
    "nombre[1] = 1"
   ]
  },
  {
   "cell_type": "markdown",
   "metadata": {},
   "source": [
    "Como se puede observar, da un error en la línea donde se intenta realizar el cambio a la lista."
   ]
  },
  {
   "cell_type": "markdown",
   "metadata": {},
   "source": [
    "## 4. __Bucles:__"
   ]
  },
  {
   "cell_type": "markdown",
   "metadata": {},
   "source": [
    "Permiten ejecutar un bloque de código tantas veces se cumpla una condición dada (similar al \"if\" y \"elif\", por lo que su funcionamiento es, igualmentE, con operadores booleanos).\n",
    "\n",
    "En Python, existen dos bucles:"
   ]
  },
  {
   "cell_type": "markdown",
   "metadata": {},
   "source": [
    "### 4.1 - for:"
   ]
  },
  {
   "cell_type": "markdown",
   "metadata": {},
   "source": [
    "Ejecuta un bloque de código tantas veces como se le indique. Se utiliza cuando se conoce las cantidad de veces que debe ejecutarse dicho bloque o cuando se necesita recorrer una lista/tupla. Su sintaxis es la siguiente:"
   ]
  },
  {
   "cell_type": "code",
   "execution_count": 9,
   "metadata": {},
   "outputs": [],
   "source": [
    "#for elemento in secuencia:\n",
    "    #Codigo a ejecutar"
   ]
  },
  {
   "cell_type": "markdown",
   "metadata": {},
   "source": [
    "En la parte de \"elemento\", se puede colocar cualquier nombre para la variable, y en \"secuencia\", se coloca el nombre del arreglo que se necesite recorrer, o un rango especificado con la función \"range()\". Por ejemplo:"
   ]
  },
  {
   "cell_type": "code",
   "execution_count": null,
   "metadata": {},
   "outputs": [],
   "source": [
    "y = 0\n",
    "\n",
    "#Se suman los numeros del 1 al 3\n",
    "for x in range(3):\n",
    "    y += (x+1)\n",
    "\n",
    "print(y)\n",
    "\n"
   ]
  },
  {
   "cell_type": "code",
   "execution_count": null,
   "metadata": {},
   "outputs": [],
   "source": [
    "z = 0\n",
    "numeros = [1,4,3,2,5]\n",
    "\n",
    "#Se suman los numeros del arreglo\n",
    "for numero in numeros:\n",
    "    z += numero\n",
    "\n",
    "print(z)"
   ]
  },
  {
   "cell_type": "markdown",
   "metadata": {},
   "source": [
    "### 4.2 - while:"
   ]
  },
  {
   "cell_type": "markdown",
   "metadata": {},
   "source": [
    "Se utiliza para ejecutar un bloque de código hasta que se deje de cumplir la condición dada. Util sobretodo cuando se desconoce la cantidad de iteraciones que deben llevarse a cabo. Su sintaxis es:"
   ]
  },
  {
   "cell_type": "code",
   "execution_count": 12,
   "metadata": {},
   "outputs": [],
   "source": [
    "#while condicion:\n",
    "    #Bloque de codigo"
   ]
  },
  {
   "cell_type": "markdown",
   "metadata": {},
   "source": [
    "Ejemplo:"
   ]
  },
  {
   "cell_type": "code",
   "execution_count": null,
   "metadata": {},
   "outputs": [],
   "source": [
    "numero = 0\n",
    "\n",
    "while numero < 100:\n",
    "\n",
    "    numero += 10\n",
    "\n",
    "    print(numero)"
   ]
  },
  {
   "cell_type": "markdown",
   "metadata": {},
   "source": [
    "Existen tambien varias keywords que son útiles a la hora de trabajar con bucles. Estas son:"
   ]
  },
  {
   "cell_type": "markdown",
   "metadata": {},
   "source": [
    " - __continue:__ Permite pasar a la siguiente iteración del bucle:"
   ]
  },
  {
   "cell_type": "code",
   "execution_count": null,
   "metadata": {},
   "outputs": [],
   "source": [
    "#Salta a la proxima iteracion si el modulo 2 del numero es igual a 0\n",
    "for x in range(1,9):\n",
    "\n",
    "    if x%2 == 0:\n",
    "        continue\n",
    "\n",
    "    print(x)"
   ]
  },
  {
   "cell_type": "markdown",
   "metadata": {},
   "source": [
    " - __break:__ Rompe el bucle y sale del mismo:"
   ]
  },
  {
   "cell_type": "code",
   "execution_count": null,
   "metadata": {},
   "outputs": [],
   "source": [
    "#Rompe el bucle al llegar al 7\n",
    "for x in range(1,9):\n",
    "\n",
    "    if x == 7:\n",
    "        break\n",
    "\n",
    "    print(x)"
   ]
  },
  {
   "cell_type": "markdown",
   "metadata": {},
   "source": [
    "## 5. __Funciones:__"
   ]
  },
  {
   "cell_type": "markdown",
   "metadata": {},
   "source": [
    "Las funciones son bloques de código que realizan una tarea específica, cosa que hace al código más legible. Una vez definida, una función puede ser llamada varias veces desde diferentes partes de un programa.\n",
    "\n",
    "Dentro de Python, existe una gran multitud de funciones que trae el propio lenguaje, que se usan sin siquiera uno mismo darse cuenta; cosas como print(), range() y len(), que se usan casi siempre a la hora de hacer programas, entran dentro del grupo de las funciones.\n",
    "\n",
    "La sintaxis de la función es la siguiente:"
   ]
  },
  {
   "cell_type": "code",
   "execution_count": null,
   "metadata": {},
   "outputs": [],
   "source": [
    "#def funcion(parametro):\n",
    "    #Bloque de codigo\n",
    "\n",
    "    #o\n",
    "\n",
    "#def funcion(parametro1, parametro2, parametro3, ...):\n",
    "    #Bloque de codigo"
   ]
  },
  {
   "cell_type": "markdown",
   "metadata": {},
   "source": [
    "Como se puede observar, las funciones pueden contener uno o varios parámetros, según lo que se necesite para el programa; además, es totalmente válido crear una función sin parametro alguno, donde simplemente se colocan los paréntesis, sin nada entre ellos. \n",
    "\n",
    "Es tambien importante destacar que, para usar una función, se debe cumplir con todos sus los parámetros.\n",
    "\n",
    "Ejemplo de una función:"
   ]
  },
  {
   "cell_type": "code",
   "execution_count": null,
   "metadata": {},
   "outputs": [],
   "source": [
    "# Se usa la libreria \"math\", una bastante util al tener que usar cualquier cosa relacionada a\n",
    "# la matematica\n",
    "import math\n",
    "\n",
    "def volumen_esfera(radio = 1):\n",
    "\n",
    "    # \"float\" se utiliza de forma que se convierta el resultado en un flotante\n",
    "    return float((4/3)*math.pi*(radio**3))\n",
    "\n",
    "print(volumen_esfera(4))"
   ]
  },
  {
   "cell_type": "markdown",
   "metadata": {},
   "source": [
    "Se pueden notar varios detalles interesantes en el código anterior, como la librería usada, pero eso es secundario; lo verdaderamente importante es el parámetro y el \"return\":"
   ]
  },
  {
   "cell_type": "markdown",
   "metadata": {},
   "source": [
    " - Una función puede o no retornar un valor, dependiendo, obviamente, de las necesidades del programador. Esto se hace colocando la keyword \"return\" si se quiere retornar algún valor, y omitiendola en caso contrario."
   ]
  },
  {
   "cell_type": "markdown",
   "metadata": {},
   "source": [
    "- Lo que se puede observar dentro del paréntesis es un parámetro default, y sirve para que la función pueda seguirse usando sin la necesidad de colocar el parámetro correspondiente."
   ]
  },
  {
   "cell_type": "markdown",
   "metadata": {},
   "source": [
    "Existe tambien un tipo especial de función, llamada __función recursiva__, la cual se llama a si misma hasta completar un parámetro que la haga salir de ese bucle. Un ejemplo de este tipo de función es el clásico factorial:"
   ]
  },
  {
   "cell_type": "code",
   "execution_count": null,
   "metadata": {},
   "outputs": [],
   "source": [
    "def factorial (n):\n",
    "    \n",
    "    # Repite la funcion hasta que se cumple la condicion\n",
    "    if n == 0:\n",
    "       return 1\n",
    "    else:\n",
    "        return n*factorial(n-1)\n",
    "    \n",
    "print(factorial(5))"
   ]
  },
  {
   "cell_type": "markdown",
   "metadata": {},
   "source": [
    "## 6. __Clases:__"
   ]
  },
  {
   "cell_type": "markdown",
   "metadata": {},
   "source": [
    "Una clase es como un plano o plantilla para crear objetos. Define un conjunto de atributos (características) y métodos (acciones) que un objeto puede tener. Es decir, una clase describe qué puede hacer y qué es un objeto.\n",
    "\n",
    "Su sintaxis es la siguiente:"
   ]
  },
  {
   "cell_type": "code",
   "execution_count": null,
   "metadata": {},
   "outputs": [],
   "source": [
    "# class nombre_de_clase:\n",
    "    # def __init__(self):\n",
    "        # Bloque de codigo\n"
   ]
  },
  {
   "cell_type": "markdown",
   "metadata": {},
   "source": [
    "Y se utiliza de la siguiente forma:"
   ]
  },
  {
   "cell_type": "code",
   "execution_count": null,
   "metadata": {},
   "outputs": [],
   "source": [
    "# objeto_de_la_clase = nombre_de_clase()"
   ]
  },
  {
   "cell_type": "markdown",
   "metadata": {},
   "source": [
    "Esta es la forma más básica de crear una clase, aunque normalmente se le agregan los ya mencionados métodos y atributos, para darle características particulares a la misma.\n",
    "\n",
    "La función \"__init__\" que se puede visualizar es una función básica de la clase, cuya utilidad es inicializar las variables que se hayan creado en la misma. Al igual que otras funciones, a esta se le puede colocar multiples parámetros sin ningún problema, siempre y cuando contenga el parámetro \"self\", que indica que trabaja con la instancia actual de la clase (\"self\" tambien tiene que usarse con otras funciones de la clase).\n",
    "\n",
    "Para crear una instancia de la clase/objeto, solo se necesita asignarle a una variable el nombre de la clase con los paréntesis, como si de una función se tratase (como en el caso del ejemplo). Cuando se realiza esto, automáticamente se llama a la función \"__init__\" de la propia clase, y es por ello que es buena práctica colocar la inicialización de las variables dentro de la misma.\n",
    "\n",
    "A modo de observar mejor el comportamiento de la clase y las instancias, se hará un ejemplo:"
   ]
  },
  {
   "cell_type": "code",
   "execution_count": null,
   "metadata": {},
   "outputs": [],
   "source": [
    "class persona:\n",
    "    def __init__(self, nombre, edad):\n",
    "        self.edad = edad\n",
    "        self.nombre = nombre\n",
    "    \n",
    "    def hablar(self):\n",
    "        print('Mi nombre es', self.nombre, ', tengo', self.edad)\n",
    "\n",
    "# Se crea una instancia de la clase, haciendo que \"edad\" y \"nombre\" contengan valores diferentes\n",
    "# dependiendo de dicha instancia\n",
    "persona1 = persona('Juan', 20)\n",
    "persona1.hablar()\n",
    "\n",
    "# Se crea la segunda instancia\n",
    "persona2 = persona('Rosa', 23)\n",
    "persona2.hablar()"
   ]
  },
  {
   "cell_type": "markdown",
   "metadata": {},
   "source": [
    "### 6.1 - Encapsulamiento:"
   ]
  },
  {
   "cell_type": "markdown",
   "metadata": {},
   "source": [
    "Consiste en ocultar los detalles internos de un objeto y proporcionar una interfaz bien definida para interactuar con él.\n",
    "\n",
    "El encapsulamiento se aplica cuando se busca que un usuario no manipule o utilice ciertas variables y funciones dentro de una clase, limitando su uso únicamente a elementos dentro de la misma.\n",
    "\n",
    "En el caso de Python, contrario a otros lenguajes, no existen keywords para asignar un determinado nivel de acceso a los elementos de la clase; a pesar de esto, igual cuenta con una forma para poder encapsular tanto métodos como atributos, siendo esta dos guiones bajos (__) que precedan a cualquiera de los dos al momento de nombrarlos:"
   ]
  },
  {
   "cell_type": "code",
   "execution_count": 18,
   "metadata": {},
   "outputs": [],
   "source": [
    "#Se creo la clase \"sonido\", con un atributo privado, y dos metodos (uno privado y otro no)\n",
    "class sonido:\n",
    "    def __init__(self):\n",
    "        self.__contador_de_sonido = 0\n",
    "    \n",
    "    def __pum(self):\n",
    "        print(\"PUM\")\n",
    "\n",
    "    def hacer_sonido(self):\n",
    "        if self.__contador_de_sonido < 5:\n",
    "            for x in range(5 - self.__contador_de_sonido):\n",
    "                print(\"o\")\n",
    "            print(\"-------\")\n",
    "            self.__contador_de_sonido += 1\n",
    "        self.__pum()\n",
    "\n",
    "#Se crea un objeto de la clase\n",
    "persona = sonido()"
   ]
  },
  {
   "cell_type": "markdown",
   "metadata": {},
   "source": [
    "En este ejemplo, se puede observar que el metodo privado y el atributo tienen dos guiónes bajos de prefijo, como se había mencionado. Ahora, se intentará usar los diferentes elementos de la clase mostrada, para enseñar su comportamiento:"
   ]
  },
  {
   "cell_type": "code",
   "execution_count": null,
   "metadata": {},
   "outputs": [],
   "source": [
    "persona.hacer_sonido()\n",
    "\n",
    "persona.hacer_sonido()"
   ]
  },
  {
   "cell_type": "markdown",
   "metadata": {},
   "source": [
    "En este caso, se puede utilizar sin ningún problema la función pública. \n",
    "\n",
    "Se intentará, esta vez, con la privada:"
   ]
  },
  {
   "cell_type": "code",
   "execution_count": null,
   "metadata": {},
   "outputs": [],
   "source": [
    "persona.__pum()"
   ]
  },
  {
   "cell_type": "markdown",
   "metadata": {},
   "source": [
    "Como se puede observar, muestra un mensaje de error, diciendo que la clase \"sonido\" no contiene el atributo \"__pum\". \n",
    "\n",
    "En el caso de la variable privada, pasara algo similar:"
   ]
  },
  {
   "cell_type": "code",
   "execution_count": null,
   "metadata": {},
   "outputs": [],
   "source": [
    "print(persona.__contador_de_sonido)"
   ]
  },
  {
   "cell_type": "markdown",
   "metadata": {},
   "source": [
    "Al intentar mostrar su contenido en pantalla, lanzó el mismo mensaje de error que en el caso de la función. "
   ]
  },
  {
   "cell_type": "markdown",
   "metadata": {},
   "source": [
    "Es importante conocer dos detalles referentes a los niveles de acceso en Python:\n",
    " - Por defecto, los atributos y métodos son públicos; es labor del programador especificar lo contrario, si se necesita.\n",
    " \n",
    " - Cambiar el valor de una variable privada no va a dar ningún mensaje de error, pero este, de todas formas, carece de efecto en el atributo."
   ]
  },
  {
   "cell_type": "markdown",
   "metadata": {},
   "source": [
    "### 6.2 - Herencia:"
   ]
  },
  {
   "cell_type": "markdown",
   "metadata": {},
   "source": [
    "Es un proceso por el cual se crea una clase (clase hija) a partir de otra ya existente (clase padre). La nueva clase puede heredar tanto métodos como atributos de la original, a la vez de que puede tener los suyos propios.\n",
    "\n",
    "Se puede observar la aplicación de la herencia a una clase en el siguiente ejemplo:"
   ]
  },
  {
   "cell_type": "code",
   "execution_count": null,
   "metadata": {},
   "outputs": [],
   "source": [
    "#Esta es la clase padre. Se escribe como una clase cualquiera\n",
    "class numeros:\n",
    "    def __init__(self, atributo):\n",
    "        self.atributo = atributo\n",
    "\n",
    "    def cuadrado(self, x):\n",
    "        return x**2\n",
    "    \n",
    "# Se coloca el nombre de la clase de la que va a heredar en parentesis\n",
    "class enteros(numeros):\n",
    "    def suma_entero(self, a, b):\n",
    "        return int(a + b)\n",
    "    \n",
    "numero = enteros(57)\n",
    "\n",
    "# Utiliza un metodo de la clase padre\n",
    "print(numero.cuadrado(7.4))\n",
    "\n",
    "# Utiliza un metodo de la propia clase\n",
    "print(numero.suma_entero(5.4, 4.8))\n",
    "\n",
    "# Se utiliza el atributo que heredo de la clase padre\n",
    "print(numero.atributo)"
   ]
  },
  {
   "cell_type": "markdown",
   "metadata": {},
   "source": [
    "### 6.3 - Polimorfismo:"
   ]
  },
  {
   "cell_type": "markdown",
   "metadata": {},
   "source": [
    "Este concepto sirve como una extensión de la herencia, ya que, al igual que en la anterior, en el polimorfismo las clases hijas heredan de una clase padre; sin embargo, en este caso, en lugar de usar las funciones tal como fueron escritas en la clase original, se le realizan cambios en la nueva para que se ajuste a las necesidades de la misma, conservando el nombre.\n",
    "\n",
    "Usando el ejemplo anterior, se mostrará el uso del polimorfismo:"
   ]
  },
  {
   "cell_type": "code",
   "execution_count": null,
   "metadata": {},
   "outputs": [],
   "source": [
    "\n",
    "class numeros:\n",
    "    def __init__(self):\n",
    "        pass\n",
    "\n",
    "    # Se coloca un metodo vacio en la clase padre. No es necesario que lo este, puede \n",
    "    # contener un bloque de codigo, si se desea\n",
    "    def division(self, a, b):\n",
    "        pass\n",
    "    \n",
    "# En las clases hijas, se sobreescribe la funcion \"division\"\n",
    "class enteros(numeros):\n",
    "    def division(self, a, b):\n",
    "        return int(a/b)\n",
    "    \n",
    "class flotantes(numeros):\n",
    "    def division(self, a, b):\n",
    "        return a/b\n",
    "    \n",
    "numero1 = enteros()\n",
    "numero2 = flotantes()\n",
    "\n",
    "# Utiliza la version del metodo de la clase \"enteros\"\n",
    "print(numero1.division(5,2))\n",
    "\n",
    "# Utiliza la version del metodo de la clase \"flotantes\"\n",
    "print(numero2.division(5,2))"
   ]
  },
  {
   "cell_type": "markdown",
   "metadata": {},
   "source": [
    "## 7. __Librerias__:"
   ]
  },
  {
   "cell_type": "markdown",
   "metadata": {},
   "source": [
    "Las librerias son una de las partes más importantes de Python, y la razón por la que se usa tanto en la actualidad. Se trata de colecciones de código previamente programado, que permite reutilizarlo y así agilizar tareas.\n",
    "\n",
    "De esta forma se utilizan:"
   ]
  },
  {
   "cell_type": "code",
   "execution_count": 33,
   "metadata": {},
   "outputs": [
    {
     "name": "stdout",
     "output_type": "stream",
     "text": [
      "314.1592653589793\n"
     ]
    }
   ],
   "source": [
    "# Se va a utilizar la libreria \"math\"\n",
    "import math\n",
    "\n",
    "def circulo_area(radio):\n",
    "\n",
    "    # Se accede a una variable de la libreria \n",
    "    return (math.pi)*radio**2\n",
    "\n",
    "print(circulo_area(10))"
   ]
  },
  {
   "cell_type": "markdown",
   "metadata": {},
   "source": [
    "Tambien es posible tomar solo ciertos elementos de la libreria:"
   ]
  },
  {
   "cell_type": "code",
   "execution_count": 34,
   "metadata": {},
   "outputs": [
    {
     "name": "stdout",
     "output_type": "stream",
     "text": [
      "314.1592653589793\n"
     ]
    }
   ],
   "source": [
    "# De esta forma se toman los elementos\n",
    "from math import pi\n",
    "\n",
    "def circulo_area(radio):\n",
    "\n",
    "    # No es necesario preceder a la funcion o variable con el nombre de la libreria\n",
    "    # en este caso\n",
    "    return (pi)*radio**2\n",
    "\n",
    "print(circulo_area(10))"
   ]
  }
 ],
 "metadata": {
  "kernelspec": {
   "display_name": "Python 3",
   "language": "python",
   "name": "python3"
  },
  "language_info": {
   "codemirror_mode": {
    "name": "ipython",
    "version": 3
   },
   "file_extension": ".py",
   "mimetype": "text/x-python",
   "name": "python",
   "nbconvert_exporter": "python",
   "pygments_lexer": "ipython3",
   "version": "3.12.3"
  }
 },
 "nbformat": 4,
 "nbformat_minor": 2
}
